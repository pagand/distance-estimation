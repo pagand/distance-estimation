{
 "cells": [
  {
   "cell_type": "markdown",
   "metadata": {
    "id": "mDUoS_DR4Xuv"
   },
   "source": [
    "#Mount Google Drive\n",
    "\n",
    "This will allow the Colab machine to access Google Drive folders by mounting the drive on the machine. You will be asked to copy and paste an authentication code."
   ]
  },
  {
   "cell_type": "code",
   "execution_count": 55,
   "metadata": {
    "colab": {
     "base_uri": "https://localhost:8080/"
    },
    "executionInfo": {
     "elapsed": 163,
     "status": "ok",
     "timestamp": 1630739171844,
     "user": {
      "displayName": "Mike Caxi",
      "photoUrl": "https://lh3.googleusercontent.com/a-/AOh14GgOjDlmTeqhOSIY-cGDXp3DYxN0SWu0zE4dCAPV=s64",
      "userId": "02290132101536635757"
     },
     "user_tz": 420
    },
    "id": "fXq6fZ3ej_y0",
    "outputId": "6762b947-8853-46ff-d0be-736f88337059"
   },
   "outputs": [
    {
     "name": "stdout",
     "output_type": "stream",
     "text": [
      "Drive already mounted at /content/gdrive/; to attempt to forcibly remount, call drive.mount(\"/content/gdrive/\", force_remount=True).\n"
     ]
    }
   ],
   "source": [
    "from google.colab import drive\n",
    "drive.mount('/content/gdrive/')"
   ]
  },
  {
   "cell_type": "markdown",
   "metadata": {
    "id": "C2rQLfyb4u6i"
   },
   "source": [
    "# Change directory to allow imports\n"
   ]
  },
  {
   "cell_type": "code",
   "execution_count": 56,
   "metadata": {
    "colab": {
     "base_uri": "https://localhost:8080/"
    },
    "executionInfo": {
     "elapsed": 150,
     "status": "ok",
     "timestamp": 1630739172136,
     "user": {
      "displayName": "Mike Caxi",
      "photoUrl": "https://lh3.googleusercontent.com/a-/AOh14GgOjDlmTeqhOSIY-cGDXp3DYxN0SWu0zE4dCAPV=s64",
      "userId": "02290132101536635757"
     },
     "user_tz": 420
    },
    "id": "3LDw3ki24owK",
    "outputId": "e0ba011a-d79e-4d57-ad69-2066c45b5af7"
   },
   "outputs": [
    {
     "name": "stdout",
     "output_type": "stream",
     "text": [
      "Data  Documentation  Models  output  Outputs  References\n"
     ]
    }
   ],
   "source": [
    "import os\n",
    "os.chdir(\"/content/gdrive/My Drive/BoxDistContinued/\")\n",
    "!ls"
   ]
  },
  {
   "cell_type": "markdown",
   "metadata": {
    "id": "HJJ2wm_fm_4B"
   },
   "source": [
    "##Import Libraries"
   ]
  },
  {
   "cell_type": "code",
   "execution_count": 57,
   "metadata": {
    "executionInfo": {
     "elapsed": 4,
     "status": "ok",
     "timestamp": 1630739172136,
     "user": {
      "displayName": "Mike Caxi",
      "photoUrl": "https://lh3.googleusercontent.com/a-/AOh14GgOjDlmTeqhOSIY-cGDXp3DYxN0SWu0zE4dCAPV=s64",
      "userId": "02290132101536635757"
     },
     "user_tz": 420
    },
    "id": "_jrJuMKinG5s"
   },
   "outputs": [],
   "source": [
    "# import some common libraries\n",
    "from google.colab.patches import cv2_imshow\n",
    "from sklearn.metrics import jaccard_score\n",
    "from PIL import Image, ImageDraw\n",
    "from tqdm.notebook import tqdm\n",
    "import pandas as pd\n",
    "import numpy as np\n",
    "import datetime\n",
    "import random\n",
    "import json\n",
    "import cv2\n",
    "import csv\n",
    "import os\n",
    "import h5py as h5\n",
    "\n",
    "# import some common pytorch utilities\n",
    "from torch.utils.data import Dataset, DataLoader\n",
    "import torchvision.transforms as transforms\n",
    "import torchvision.models as models\n",
    "from torch.autograd import Variable\n",
    "import torch.nn.functional as F\n",
    "import torch.nn as nn\n",
    "import torch"
   ]
  },
  {
   "cell_type": "markdown",
   "metadata": {
    "id": "1iZccVU1Njox"
   },
   "source": [
    "##Set Directory"
   ]
  },
  {
   "cell_type": "code",
   "execution_count": 58,
   "metadata": {
    "executionInfo": {
     "elapsed": 4,
     "status": "ok",
     "timestamp": 1630739172137,
     "user": {
      "displayName": "Mike Caxi",
      "photoUrl": "https://lh3.googleusercontent.com/a-/AOh14GgOjDlmTeqhOSIY-cGDXp3DYxN0SWu0zE4dCAPV=s64",
      "userId": "02290132101536635757"
     },
     "user_tz": 420
    },
    "id": "DMeSxbuANjTz"
   },
   "outputs": [],
   "source": [
    "BASE_DIR = '/content/gdrive/My Drive/BoxDistContinued/'\n",
    "TRAINING_DIR = os.path.join(BASE_DIR, 'Data/kitti/training')"
   ]
  },
  {
   "cell_type": "markdown",
   "metadata": {
    "id": "gy-BLsXXMfTm"
   },
   "source": [
    "#Experiments"
   ]
  },
  {
   "cell_type": "markdown",
   "metadata": {
    "id": "qivKoqsFBymm"
   },
   "source": [
    "###Load in annotations with obj_id first"
   ]
  },
  {
   "cell_type": "code",
   "execution_count": 59,
   "metadata": {
    "executionInfo": {
     "elapsed": 155,
     "status": "ok",
     "timestamp": 1630739172289,
     "user": {
      "displayName": "Mike Caxi",
      "photoUrl": "https://lh3.googleusercontent.com/a-/AOh14GgOjDlmTeqhOSIY-cGDXp3DYxN0SWu0zE4dCAPV=s64",
      "userId": "02290132101536635757"
     },
     "user_tz": 420
    },
    "id": "d1zVUMDS6Wag"
   },
   "outputs": [],
   "source": [
    "import pycocotools\n",
    "import tensorflow as tf\n",
    "from skimage import measure\n",
    "\n",
    "class_ids = {\n",
    "    'Car': 0,\n",
    "    'Van': 1,\n",
    "    'Truck': 2,\n",
    "    'Pedestrian': 3,\n",
    "    'Person': 4,\n",
    "    'Cyclist': 5,\n",
    "    'Tram': 6,\n",
    "}\n",
    "def obj_id_first_annotations(set_names, poly_from_json=True):\n",
    "  annotations = {}\n",
    "  kitti_anno_dir = os.path.join(TRAINING_DIR, 'label_02')\n",
    "  tracking_anno_dir = os.path.join(TRAINING_DIR, 'instances_txt')\n",
    "  tf_anno_dir = os.path.join(TRAINING_DIR, 'instances')\n",
    "  gps_anno_dir = os.path.join(TRAINING_DIR, 'oxts')\n",
    "  file_name_template = '0000'\n",
    "  for set_name in set_names:\n",
    "    #set_name = file_name_template + str(s)\n",
    "    #set_name = set_name[len(set_name)-4:len(set_name)]\n",
    "    kitti_anno_file = os.path.join(kitti_anno_dir, set_name+'.txt')\n",
    "    tracking_anno_file = os.path.join(tracking_anno_dir, set_name+'.txt')\n",
    "    gps_anno_file = os.path.join(gps_anno_dir, set_name+'.txt')\n",
    "    records = {}\n",
    "\n",
    "#Load IMU Annotations\n",
    "    gps_anno = open(gps_anno_file, 'r')\n",
    "    gps_lines = gps_anno.readlines()\n",
    "    gps = {}\n",
    "    for frame, line in enumerate(gps_lines):\n",
    "      e = line.split(' ')\n",
    "      h = float(e[5])\n",
    "      v = [float(e[8]), float(e[9]), float(e[10])]\n",
    "      a = [float(e[14]), float(e[15]), float(e[16])]\n",
    "      w = [float(e[20]), float(e[21]), float(e[22])]\n",
    "      gps[frame] = {\n",
    "          'v': v,\n",
    "          'a': a,\n",
    "          'w': w,\n",
    "          'h': h,\n",
    "      }\n",
    "    \n",
    "    tracking_anno = open(tracking_anno_file, 'r')\n",
    "    tracking_lines = tracking_anno.readlines()\n",
    "    line = tracking_lines[0]\n",
    "    e = line.split(' ')\n",
    "    frame = int(e[0])\n",
    "    height = int(e[3])\n",
    "    width = int(e[4])\n",
    "\n",
    "#Load Kitti Annotations\n",
    "    kitti_anno = open(kitti_anno_file, 'r')\n",
    "    kitti_lines = kitti_anno.readlines()\n",
    "    for line in kitti_lines:\n",
    "      e = line.split(' ')\n",
    "      class_name = e[2]\n",
    "      trunc = float(e[3])\n",
    "      occl = int(e[4])\n",
    "      if class_name == 'DontCare' or class_name == 'Misc' or trunc > 0.0 or occl > 0: #data exclusion\n",
    "        continue\n",
    "      frame = int(e[0])\n",
    "      obj_id = int(e[1])\n",
    "      if obj_id not in records.keys():\n",
    "        records[obj_id] = {}\n",
    "      if frame not in records[obj_id].keys():\n",
    "        records[obj_id][frame] = {}\n",
    "      records[obj_id]['class_name'] = class_name\n",
    "      records[obj_id][frame] = {\n",
    "          'img_id': set_name+str(frame),\n",
    "          'class_name': class_name,\n",
    "          'class_id': class_ids[class_name],\n",
    "          'alpha': float(e[5]),\n",
    "          'bbox': [float(e[6]), float(e[7]), float(e[8]), float(e[9])],\n",
    "          'xyz': [float(e[13]), float(e[14]), float(e[15])],\n",
    "          'wlht': [float(e[10]), float(e[11]), float(e[12]), float(e[16])],\n",
    "          'v': gps[frame]['v'],\n",
    "          'a': gps[frame]['a'],\n",
    "          'w': gps[frame]['w'],\n",
    "          'h': gps[frame]['h'],\n",
    "          'height': height,\n",
    "          'width': width,\n",
    "      }\n",
    "      records[obj_id][frame]['instance_img'] = TRAINING_DIR + '/objs_raw/' + set_name + '/' + str(obj_id) + '/' + str(frame) + '.h5'\n",
    "      #print(TRAINING_DIR + '/objs_raw/' + set_name + '/' + str(obj_id) + '/' + str(frame) + '.h5')\n",
    "\n",
    "#Load Segmentation\n",
    "    if poly_from_json:\n",
    "      with open(TRAINING_DIR+'/seg_poly/'+set_name+'.json', 'r') as anno_json:\n",
    "        imgs_anns = json.load(anno_json)\n",
    "        for ann in imgs_anns:\n",
    "          frame = ann['frame']\n",
    "          obj_id = ann['obj_id']\n",
    "          if obj_id not in records.keys() or frame not in records[obj_id].keys():\n",
    "            continue\n",
    "          records[obj_id][frame]['height'] = ann['height']\n",
    "          records[obj_id][frame]['width'] = ann['width']\n",
    "          records[obj_id][frame]['poly'] = ann['poly']\n",
    "      anno_json.close()\n",
    "\n",
    "#Get Instance Image Path\n",
    "    annotations[set_name] = records\n",
    "  return annotations"
   ]
  },
  {
   "cell_type": "code",
   "execution_count": 60,
   "metadata": {
    "executionInfo": {
     "elapsed": 1181,
     "status": "ok",
     "timestamp": 1630739173468,
     "user": {
      "displayName": "Mike Caxi",
      "photoUrl": "https://lh3.googleusercontent.com/a-/AOh14GgOjDlmTeqhOSIY-cGDXp3DYxN0SWu0zE4dCAPV=s64",
      "userId": "02290132101536635757"
     },
     "user_tz": 420
    },
    "id": "Y5YJfCtDMhf3"
   },
   "outputs": [],
   "source": [
    "set_names = ['0002', '0006', '0007', '0008', '0010', '0013', '0014', '0016', '0018']\n",
    "obj_first_annotations = obj_id_first_annotations(set_names)"
   ]
  },
  {
   "cell_type": "markdown",
   "metadata": {
    "id": "WEFsu9KcCFSw"
   },
   "source": [
    "###Cherry Pick Datasets"
   ]
  },
  {
   "cell_type": "markdown",
   "metadata": {
    "id": "pnVlMruHCPI2"
   },
   "source": [
    "Requirements: has to have more than 2 or more frames"
   ]
  },
  {
   "cell_type": "code",
   "execution_count": 61,
   "metadata": {
    "executionInfo": {
     "elapsed": 3,
     "status": "ok",
     "timestamp": 1630739173468,
     "user": {
      "displayName": "Mike Caxi",
      "photoUrl": "https://lh3.googleusercontent.com/a-/AOh14GgOjDlmTeqhOSIY-cGDXp3DYxN0SWu0zE4dCAPV=s64",
      "userId": "02290132101536635757"
     },
     "user_tz": 420
    },
    "id": "0sXKHP_9NB5n"
   },
   "outputs": [],
   "source": [
    "def cherry_pick_data(annotations, lookback=1, class_targets=None, class_excludes=None):\n",
    "  cherrypicked = {}\n",
    "  for scene in annotations.keys():\n",
    "    cherrypicked[scene] = {}\n",
    "    for obj_id in annotations[scene].keys():\n",
    "      frames = annotations[scene][obj_id].keys()\n",
    "      class_name = annotations[scene][obj_id]['class_name']\n",
    "      if len(frames)-1 < lookback+1 or (class_targets != None and class_name not in class_targets) or (class_excludes != None and class_name in class_excludes):\n",
    "        continue\n",
    "      cherrypicked[scene][obj_id] = annotations[scene][obj_id]\n",
    "  return cherrypicked"
   ]
  },
  {
   "cell_type": "markdown",
   "metadata": {
    "id": "Qc3XNgUrHGOF"
   },
   "source": [
    "###Construct pairwise annotations"
   ]
  },
  {
   "cell_type": "code",
   "execution_count": 62,
   "metadata": {
    "executionInfo": {
     "elapsed": 3,
     "status": "ok",
     "timestamp": 1630739173469,
     "user": {
      "displayName": "Mike Caxi",
      "photoUrl": "https://lh3.googleusercontent.com/a-/AOh14GgOjDlmTeqhOSIY-cGDXp3DYxN0SWu0zE4dCAPV=s64",
      "userId": "02290132101536635757"
     },
     "user_tz": 420
    },
    "id": "-w7pscd_LUcq"
   },
   "outputs": [],
   "source": [
    "def nframe_lookback(annotations, n):\n",
    "  n = n+1\n",
    "  pair_wise_anno = []\n",
    "  for scene in annotations.keys():\n",
    "    for obj_id in annotations[scene].keys():\n",
    "      frames = list(annotations[scene][obj_id].keys())\n",
    "      class_name = annotations[scene][obj_id]['class_name']\n",
    "      frames.remove('class_name')\n",
    "      frames.sort()\n",
    "      for f in range(len(frames)-n):\n",
    "        data = {\n",
    "            'vs': [],\n",
    "            'as': [],\n",
    "            'ws': [],\n",
    "            'hs': [],\n",
    "            'box_hs': [],\n",
    "            'gts': [],\n",
    "            'ce': [],\n",
    "            'instance_img': [],\n",
    "        }\n",
    "        for i in range(n):\n",
    "          frame = annotations[scene][obj_id][frames[f+i]]\n",
    "          bbox = [frame['bbox'][0], frame['bbox'][1], frame['bbox'][2], frame['bbox'][3]]\n",
    "          box_h = bbox[3] - bbox[1]\n",
    "          v = frame['v']\n",
    "          a = frame['a']\n",
    "          w = frame['w']\n",
    "          height = frame['height']\n",
    "          width = frame['width']\n",
    "          img_center = [width/2, height/2]\n",
    "          bw = bbox[2] - bbox[0]\n",
    "          bh = bbox[3] - bbox[1]\n",
    "          ce = [(frame['bbox'][0]+(bw/2)-img_center[0])/(width/2), (frame['bbox'][1]+(bh/2)-img_center[1])/(height/2)]\n",
    "\n",
    "          data['vs'].append(v)\n",
    "          data['as'].append(a)\n",
    "          data['ws'].append(w)\n",
    "          data['hs'].append(frame['h'])\n",
    "          data['box_hs'].append(box_h)\n",
    "          data['ce'].append(ce)\n",
    "          data['gts'].append(annotations[scene][obj_id][frames[f+n]]['xyz'][2])\n",
    "\n",
    "          data['instance_img'].append(frame['instance_img'])\n",
    "\n",
    "        dist = annotations[scene][obj_id][frames[f+n]]['xyz']\n",
    "        pair = {\n",
    "            'input': data,\n",
    "            'output': dist,\n",
    "            'debug': [annotations[scene][obj_id][frames[f]]['xyz'][2], annotations[scene][obj_id][frames[f+int(n/2)]]['xyz'][2], annotations[scene][obj_id][frames[f+n]]['xyz'][2]],\n",
    "            'class': class_name,\n",
    "        }\n",
    "        pair_wise_anno.append(pair)\n",
    "  return pair_wise_anno\n"
   ]
  },
  {
   "cell_type": "markdown",
   "metadata": {
    "id": "UYei8pZCvjbc"
   },
   "source": [
    "###Loader"
   ]
  },
  {
   "cell_type": "markdown",
   "metadata": {
    "id": "Cp2cNwzKuobF"
   },
   "source": [
    "####Multi-Class train & test"
   ]
  },
  {
   "cell_type": "code",
   "execution_count": 63,
   "metadata": {
    "colab": {
     "base_uri": "https://localhost:8080/"
    },
    "executionInfo": {
     "elapsed": 187,
     "status": "ok",
     "timestamp": 1630739173653,
     "user": {
      "displayName": "Mike Caxi",
      "photoUrl": "https://lh3.googleusercontent.com/a-/AOh14GgOjDlmTeqhOSIY-cGDXp3DYxN0SWu0zE4dCAPV=s64",
      "userId": "02290132101536635757"
     },
     "user_tz": 420
    },
    "id": "9_pjTAlEdErm",
    "outputId": "26395aa2-2bd2-4593-f1d3-038a10bd8174"
   },
   "outputs": [
    {
     "name": "stdout",
     "output_type": "stream",
     "text": [
      "Total: 3240 entries\n"
     ]
    }
   ],
   "source": [
    "import random\n",
    "random.seed()\n",
    "\n",
    "n=10\n",
    "anno = cherry_pick_data(obj_first_annotations, n, class_targets=['Car'])\n",
    "dataset = nframe_lookback(anno, n)\n",
    "inputs = []\n",
    "outputs = []\n",
    "debugs = []\n",
    "classes = []\n",
    "for d in dataset:\n",
    "  inputs.append(d['input'])\n",
    "  outputs.append(d['output'])\n",
    "  debugs.append(d['debug'])\n",
    "  classes.append(d['class'])\n",
    "\n",
    "print(\"Total: {} entries\".format(len(inputs)))"
   ]
  },
  {
   "cell_type": "markdown",
   "metadata": {
    "id": "jwJF-Po1RHOD"
   },
   "source": [
    "####Stage 1 Input Construction"
   ]
  },
  {
   "cell_type": "code",
   "execution_count": 64,
   "metadata": {
    "executionInfo": {
     "elapsed": 149,
     "status": "ok",
     "timestamp": 1630739173800,
     "user": {
      "displayName": "Mike Caxi",
      "photoUrl": "https://lh3.googleusercontent.com/a-/AOh14GgOjDlmTeqhOSIY-cGDXp3DYxN0SWu0zE4dCAPV=s64",
      "userId": "02290132101536635757"
     },
     "user_tz": 420
    },
    "id": "iLXn0wA3hvQo"
   },
   "outputs": [],
   "source": [
    "import math\n",
    "test_input = []\n",
    "test_output = []\n",
    "for i in range(len(inputs)):\n",
    "  target = outputs[i]\n",
    "  input = inputs[i]\n",
    "  debug = debugs[i]\n",
    "  class_name = classes[i]\n",
    "\n",
    "  vs = input['vs']\n",
    "  vds = input['as']\n",
    "  ws = input['ws']\n",
    "  bhs = input['box_hs']\n",
    "  ces = input['ce']\n",
    "\n",
    "  \n",
    "  input = {\n",
    "      '2D': [input['instance_img'][0], input['instance_img'][int(n/2)], input['instance_img'][n]],\n",
    "      '1D': vs[0] + vs[int(n/2)] + vs[n] + vds[0] + vds[int(n/2)] + vds[n] + ws[0] + ws[int(n/2)] + ws[n] + ces[0] + ces[int(n/2)] + ces[n],\n",
    "      'output': target,\n",
    "      'class': class_name,\n",
    "  }\n",
    "\n",
    "  #if abs(debug[2]-debug[0])/target[2] < 0.01:\n",
    "  test_input.append(input)\n",
    "  test_output.append(torch.from_numpy(np.expand_dims(np.array(target).astype(np.float32), axis=0)))"
   ]
  },
  {
   "cell_type": "markdown",
   "metadata": {
    "id": "Uj_LfnoLvayH"
   },
   "source": [
    "###Network"
   ]
  },
  {
   "cell_type": "code",
   "execution_count": 65,
   "metadata": {
    "executionInfo": {
     "elapsed": 5,
     "status": "ok",
     "timestamp": 1630739173800,
     "user": {
      "displayName": "Mike Caxi",
      "photoUrl": "https://lh3.googleusercontent.com/a-/AOh14GgOjDlmTeqhOSIY-cGDXp3DYxN0SWu0zE4dCAPV=s64",
      "userId": "02290132101536635757"
     },
     "user_tz": 420
    },
    "id": "pk9s5kGlSF_3"
   },
   "outputs": [],
   "source": [
    "def image_resize(image, width = None, height = None, inter = cv2.INTER_AREA):\n",
    "    # initialize the dimensions of the image to be resized and\n",
    "    # grab the image size\n",
    "    dim = None\n",
    "    (h, w) = image.shape[:2]\n",
    "\n",
    "    # if both the width and height are None, then return the\n",
    "    # original image\n",
    "    if width is None and height is None:\n",
    "        return image\n",
    "\n",
    "    # check to see if the width is None\n",
    "    if width is None:\n",
    "        # calculate the ratio of the height and construct the\n",
    "        # dimensions\n",
    "        r = height / float(h)\n",
    "        dim = (int(w * r), height)\n",
    "\n",
    "    # otherwise, the height is None\n",
    "    else:\n",
    "        # calculate the ratio of the width and construct the\n",
    "        # dimensions\n",
    "        r = width / float(w)\n",
    "        dim = (width, int(h * r))\n",
    "\n",
    "    # resize the image\n",
    "    resized = cv2.resize(image, dim, interpolation = inter)\n",
    "\n",
    "    # return the resized image\n",
    "    return resized\n",
    "\n",
    "def crop_pad(image, width=224, height=224):\n",
    "  h, w = image.shape\n",
    "  if h < height:\n",
    "    image = cv2.copyMakeBorder(image, int((height-h)/2)+(height-h)%2, int((height-h)/2),0,0,cv2.BORDER_CONSTANT,value=[0,0,0])\n",
    "  if w < width:\n",
    "    image = cv2.copyMakeBorder(image,0,0,int((width-w)/2)+(width-w)%2, int((width-w)/2),cv2.BORDER_CONSTANT,value=[0,0,0])\n",
    "  elif w > width:\n",
    "    image = image[:, int((w-width)/2)+(w-width)%2:width+int((w-width)/2)+(w-width)%2]\n",
    "  return image\n",
    "\n",
    "def img_batch_con(inputs, num_imgs=3):\n",
    "  batch = np.zeros((len(inputs), num_imgs, 224, 224))\n",
    "  for i, input in enumerate(inputs):\n",
    "    paths = input['2D']\n",
    "    pre_tensor = np.zeros((num_imgs, 224, 224))\n",
    "    imgs = {}\n",
    "    shapes = []\n",
    "    for j, path in enumerate(paths):\n",
    "      f = h5.File(path, 'r')\n",
    "      img = np.array(f['img'][:,:])\n",
    "      if len(img.shape) > 2:\n",
    "        img = cv2.cvtColor(img, cv2.COLOR_BGR2GRAY)\n",
    "      h, w = img.shape\n",
    "      shapes.append(h)\n",
    "      imgs[j] = img\n",
    "    for j in range(num_imgs):\n",
    "      resized = crop_pad(image_resize(imgs[j], height=round(224*shapes[j]/max(shapes))))\n",
    "      pre_tensor[j,:,:] = resized.astype(np.float32)/255.0\n",
    "\n",
    "    batch[i,:,:,:] = pre_tensor\n",
    "\n",
    "  batch = torch.from_numpy(batch.astype(np.float32)).cuda()\n",
    "  return batch\n",
    "\n",
    "def batch1D_con(inputs, interms):\n",
    "  batch = np.zeros((len(inputs), 1000+33))\n",
    "  for i, input in enumerate(inputs):\n",
    "    D1 = input['1D']\n",
    "    interm = interms[i].cpu().detach().numpy()\n",
    "    combine = np.concatenate((interm, D1))\n",
    "    batch[i,:] = combine\n",
    "  batch = torch.from_numpy(batch.astype(np.float32)).cuda()\n",
    "  return batch\n",
    "\n",
    "def batch_output_con(inputs):\n",
    "  batch = np.zeros((len(inputs), 3))\n",
    "  for i, input in enumerate(inputs):\n",
    "    batch[i,:] = np.array(input['output']).astype(np.float32)\n",
    "  batch = torch.from_numpy(batch.astype(np.float32)).cuda()\n",
    "  return batch"
   ]
  },
  {
   "cell_type": "code",
   "execution_count": 66,
   "metadata": {
    "executionInfo": {
     "elapsed": 151,
     "status": "ok",
     "timestamp": 1630739173947,
     "user": {
      "displayName": "Mike Caxi",
      "photoUrl": "https://lh3.googleusercontent.com/a-/AOh14GgOjDlmTeqhOSIY-cGDXp3DYxN0SWu0zE4dCAPV=s64",
      "userId": "02290132101536635757"
     },
     "user_tz": 420
    },
    "id": "EKHU9jgjRVi-"
   },
   "outputs": [],
   "source": [
    "import torch.nn as nn\n",
    "import torch.optim as optim\n",
    "import torch.nn.functional as F\n",
    "\n",
    "net2D = models.resnet18().cuda()\n",
    "\n",
    "class CalcDist1D(nn.Module):\n",
    "  def __init__(self):\n",
    "    super(CalcDist1D, self).__init__()\n",
    "\n",
    "    self.fc_net = nn.Sequential(\n",
    "      nn.Linear(1000+33, 500),\n",
    "      nn.LayerNorm(500),\n",
    "      nn.Softplus(),\n",
    "      nn.Linear(500, 250),\n",
    "      nn.LayerNorm(250),\n",
    "      nn.Softplus(),\n",
    "      nn.Linear(250, 3),\n",
    "    )\n",
    "  def forward(self, x):\n",
    "    x = self.fc_net(x)\n",
    "    return x\n",
    "\n",
    "net1D = CalcDist1D().cuda()\n",
    "\n",
    "criterion = nn.L1Loss()"
   ]
  },
  {
   "cell_type": "code",
   "execution_count": 67,
   "metadata": {
    "colab": {
     "base_uri": "https://localhost:8080/"
    },
    "executionInfo": {
     "elapsed": 151,
     "status": "ok",
     "timestamp": 1630739174095,
     "user": {
      "displayName": "Mike Caxi",
      "photoUrl": "https://lh3.googleusercontent.com/a-/AOh14GgOjDlmTeqhOSIY-cGDXp3DYxN0SWu0zE4dCAPV=s64",
      "userId": "02290132101536635757"
     },
     "user_tz": 420
    },
    "id": "KVNKEE__ecd2",
    "outputId": "e2221d0f-a040-40f9-b3b6-f57f14aec910"
   },
   "outputs": [
    {
     "data": {
      "text/plain": [
       "<All keys matched successfully>"
      ]
     },
     "execution_count": 67,
     "metadata": {},
     "output_type": "execute_result"
    }
   ],
   "source": [
    "net2D.load_state_dict(torch.load(\"/content/gdrive/My Drive/BoxDistContinued/Models/trained/EndDist_res18_sp_2D_supcar_10.pt\"))\n",
    "net1D.load_state_dict(torch.load(\"/content/gdrive/My Drive/BoxDistContinued/Models/trained/EndDist_res18_sp_1D_supcar_10.pt\"))"
   ]
  },
  {
   "cell_type": "code",
   "execution_count": 68,
   "metadata": {
    "colab": {
     "base_uri": "https://localhost:8080/"
    },
    "executionInfo": {
     "elapsed": 1177381,
     "status": "ok",
     "timestamp": 1630740351475,
     "user": {
      "displayName": "Mike Caxi",
      "photoUrl": "https://lh3.googleusercontent.com/a-/AOh14GgOjDlmTeqhOSIY-cGDXp3DYxN0SWu0zE4dCAPV=s64",
      "userId": "02290132101536635757"
     },
     "user_tz": 420
    },
    "id": "NKW82LHF2gZZ",
    "outputId": "3d0c7da8-67d1-453f-bc5a-4be582fce0db"
   },
   "outputs": [
    {
     "name": "stdout",
     "output_type": "stream",
     "text": [
      "loss: 2.531\n",
      "mean test absolute error: 6.503\n",
      "mean test relative error: 0.200\n",
      "median test absolute error: 4.950\n",
      "median test relative error: 0.176\n",
      "rmse: 8.976\n"
     ]
    }
   ],
   "source": [
    "import math\n",
    "def dist_3D(xyz):\n",
    "  x = xyz[0][0]\n",
    "  y = xyz[0][1]\n",
    "  z = xyz[0][2]\n",
    "  return math.sqrt(x**2+y**2+z**2)\n",
    "\n",
    "mean_error = 0\n",
    "mean_dist = 0\n",
    "abs_errors = []\n",
    "rel_errors = []\n",
    "dists = []\n",
    "rmse = []\n",
    "loss = 0\n",
    "\n",
    "results = []\n",
    "\n",
    "net2D.eval()\n",
    "net1D.eval()\n",
    "with torch.no_grad():\n",
    "  for i in range(len(test_input)):\n",
    "    input = test_input[i]\n",
    "    target = test_output[i].cuda()\n",
    "\n",
    "    input2D = img_batch_con([input])\n",
    "    interm = net2D(input2D)\n",
    "\n",
    "    input1D = batch1D_con([input], interm)\n",
    "    output = net1D(input1D)\n",
    "\n",
    "    loss += criterion(output, target)\n",
    "\n",
    "    dist_tar = dist_3D(target.cpu().detach().numpy())\n",
    "    dist_out = dist_3D(output.cpu().detach().numpy())\n",
    "\n",
    "    results.append({\n",
    "          'pred': dist_out,\n",
    "          'targ': dist_tar,\n",
    "          'class': input['class']\n",
    "      })\n",
    "\n",
    "    abs_errors.append(abs(dist_tar-dist_out))\n",
    "    rel_errors.append(abs((dist_tar-dist_out)/dist_tar))\n",
    "    dists.append(dist_tar)\n",
    "\n",
    "    rmse.append((dist_tar-dist_out)**2)\n",
    "\n",
    "print('loss: %.3f' %(loss/len(test_input)))\n",
    "mean_error /= len(test_input)\n",
    "print('mean test absolute error: %.3f' %(np.mean(abs_errors)))\n",
    "mean_dist /= len(test_input)\n",
    "print('mean test relative error: %.3f' %(np.mean(rel_errors)))\n",
    "print('median test absolute error: %.3f' %(np.median(np.sort(abs_errors))))\n",
    "print('median test relative error: %.3f' %(np.median(np.sort(rel_errors))))\n",
    "rmse = sum(rmse)\n",
    "rmse /= len(abs_errors)\n",
    "rmse = math.sqrt(rmse)\n",
    "print('rmse: %.3f' %(rmse))"
   ]
  },
  {
   "cell_type": "code",
   "execution_count": 69,
   "metadata": {
    "colab": {
     "base_uri": "https://localhost:8080/",
     "height": 1000
    },
    "executionInfo": {
     "elapsed": 738,
     "status": "ok",
     "timestamp": 1630740352202,
     "user": {
      "displayName": "Mike Caxi",
      "photoUrl": "https://lh3.googleusercontent.com/a-/AOh14GgOjDlmTeqhOSIY-cGDXp3DYxN0SWu0zE4dCAPV=s64",
      "userId": "02290132101536635757"
     },
     "user_tz": 420
    },
    "id": "dlniOda4LEU1",
    "outputId": "06568add-b871-4932-afa7-4b900b3bd986"
   },
   "outputs": [
    {
     "data": {
      "image/png": "[encoded data removed]",
      "text/plain": [
       "<Figure size 864x576 with 1 Axes>"
      ]
     },
     "metadata": {
      "needs_background": "light"
     },
     "output_type": "display_data"
    },
    {
     "data": {
      "image/png": "[encoded data removed]",
      "text/plain": [
       "<Figure size 864x576 with 1 Axes>"
      ]
     },
     "metadata": {
      "needs_background": "light"
     },
     "output_type": "display_data"
    }
   ],
   "source": [
    "import matplotlib\n",
    "import matplotlib.pyplot as plt\n",
    "\n",
    "ordered_abs = [x for _, x in sorted(zip(dists, abs_errors))]\n",
    "ordered_rel = [x for _, x in sorted(zip(dists, rel_errors))]\n",
    "\n",
    "fig, ax = plt.subplots()\n",
    "fig.set_size_inches(12, 8)\n",
    "ax.scatter(np.sort(dists), np.array(ordered_abs), label='Absolute Error')\n",
    "p = np.poly1d(np.polyfit(dists, ordered_abs, 10))\n",
    "xp = np.linspace(min(dists), max(dists), len(dists))\n",
    "#ax.plot(xp, p(xp), color='orange')\n",
    "ax.plot(np.sort(dists), np.array([np.mean(abs_errors)]*len(ordered_abs)), color='yellow', label='Mean')\n",
    "ax.plot(np.sort(dists), np.array([np.median(np.sort(abs_errors))]*len(ordered_abs)), color='red', label='Median')\n",
    "ax.set(xlabel='GT_Distance', ylabel='Error (m)',\n",
    "       title='Absolute Error over Distance')\n",
    "ax.grid()\n",
    "ax.legend()\n",
    "plt.show()\n",
    "\n",
    "fig, ax = plt.subplots()\n",
    "fig.set_size_inches(12, 8)\n",
    "ax.scatter(np.sort(dists), np.array(ordered_rel)*100, label='Relative Error')\n",
    "p = np.poly1d(np.polyfit(dists, np.array(ordered_rel)*100, 10))\n",
    "xp = np.linspace(min(dists), max(dists), len(dists))\n",
    "#ax.plot(xp, p(xp), color='orange')\n",
    "ax.plot(np.sort(dists), np.array([np.mean(rel_errors)*100]*len(ordered_abs)), color='yellow', label='Mean')\n",
    "ax.plot(np.sort(dists), np.array([np.median(np.sort(rel_errors))*100]*len(ordered_abs)), color='red', label='Median')\n",
    "ax.set(xlabel='GT_Distance', ylabel='Error (%)',\n",
    "       title='Relative Error over Distance')\n",
    "ax.grid()\n",
    "ax.legend()\n",
    "plt.show()"
   ]
  },
  {
   "cell_type": "code",
   "execution_count": 70,
   "metadata": {
    "executionInfo": {
     "elapsed": 6,
     "status": "ok",
     "timestamp": 1630740352203,
     "user": {
      "displayName": "Mike Caxi",
      "photoUrl": "https://lh3.googleusercontent.com/a-/AOh14GgOjDlmTeqhOSIY-cGDXp3DYxN0SWu0zE4dCAPV=s64",
      "userId": "02290132101536635757"
     },
     "user_tz": 420
    },
    "id": "C8bpjj2NaXrO"
   },
   "outputs": [],
   "source": [
    "import csv\n",
    "\n",
    "with open('/content/gdrive/My Drive/BoxDistContinued/Models/EndDist/Results/res18_sp_gt_const.csv', 'w', newline='') as csvfile:\n",
    "    fieldnames = ['class', 'target', 'prediction']\n",
    "    writer = csv.DictWriter(csvfile, fieldnames=fieldnames)\n",
    "\n",
    "    writer.writeheader()\n",
    "    for r in results:\n",
    "      writer.writerow({'class': r['class'], 'target': r['targ'], 'prediction': r['pred']})\n"
   ]
  },
  {
   "cell_type": "code",
   "execution_count": 71,
   "metadata": {
    "colab": {
     "base_uri": "https://localhost:8080/"
    },
    "executionInfo": {
     "elapsed": 191,
     "status": "ok",
     "timestamp": 1630740352390,
     "user": {
      "displayName": "Mike Caxi",
      "photoUrl": "https://lh3.googleusercontent.com/a-/AOh14GgOjDlmTeqhOSIY-cGDXp3DYxN0SWu0zE4dCAPV=s64",
      "userId": "02290132101536635757"
     },
     "user_tz": 420
    },
    "id": "gZTIIs9LcNXw",
    "outputId": "78ed9b27-a2df-445a-e538-e7262317813a"
   },
   "outputs": [
    {
     "name": "stdout",
     "output_type": "stream",
     "text": [
      "res18_sp_emot.csv\t   res18_sp_gt.csv\t       res18_sp_supcar_5.csv\n",
      "res18_sp_emot_ex.csv\t   res18_sp_gt_occl.csv        res18_sp_supcar_car.csv\n",
      "res18_sp_emot_ex_occl.csv  res18_sp_sanscar_car.csv    res18_sp_supcar.csv\n",
      "res18_sp_gt_car.csv\t   res18_sp_supcar_50_car.csv  res18_sp_tr.csv\n",
      "res18_sp_gt_carped.csv\t   res18_sp_supcar_50.csv      res18_sp_tr_tr.csv\n",
      "res18_sp_gt_const.csv\t   res18_sp_supcar_5_car.csv   segdist_gt.csv\n"
     ]
    }
   ],
   "source": [
    "!ls '/content/gdrive/My Drive/BoxDistContinued/Models/EndDist/Results/'"
   ]
  }
 ],
 "metadata": {
  "accelerator": "GPU",
  "colab": {
   "collapsed_sections": [],
   "machine_shape": "hm",
   "name": "EndDist_Test_GT.ipynb",
   "provenance": []
  },
  "kernelspec": {
   "display_name": "Python 3",
   "language": "python",
   "name": "python3"
  },
  "language_info": {
   "codemirror_mode": {
    "name": "ipython",
    "version": 3
   },
   "file_extension": ".py",
   "mimetype": "text/x-python",
   "name": "python",
   "nbconvert_exporter": "python",
   "pygments_lexer": "ipython3",
   "version": "3.7.4"
  }
 },
 "nbformat": 4,
 "nbformat_minor": 1
}
